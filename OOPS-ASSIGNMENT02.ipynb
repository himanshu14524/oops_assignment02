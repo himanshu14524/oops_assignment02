{
 "cells": [
  {
   "cell_type": "raw",
   "id": "1235cd8e-4a85-40a6-b1e0-ff687240c99d",
   "metadata": {},
   "source": [
    "Q1. What is Abstraction in OOps? Explain with an example.\n",
    "\n",
    "ANS--Abstraction is a fundamental concept in object-oriented programming (OOP) that\n",
    "focuses on hiding unnecessary details and exposing only the essential features of an\n",
    "object or a class. It allows you to represent complex systems or entities in a simplified \n",
    "manner, emphasizing what is relevant and hiding the implementation details.\n"
   ]
  },
  {
   "cell_type": "code",
   "execution_count": null,
   "id": "b84c7f92-9bb5-46e3-a9ae-b3dffb737e74",
   "metadata": {},
   "outputs": [],
   "source": [
    "#EXAMPLE\n",
    "from abc import ABC, abstractmethod\n",
    "\n",
    "class Shape(ABC):\n",
    "    @abstractmethod\n",
    "    def area(self):\n",
    "        pass\n",
    "\n",
    "    @abstractmethod\n",
    "    def perimeter(self):\n",
    "        pass\n",
    "\n",
    "class Rectangle(Shape):\n",
    "    def __init__(self, width, height):\n",
    "        self.width = width\n",
    "        self.height = height\n",
    "\n",
    "    def area(self):\n",
    "        return self.width * self.height\n",
    "\n",
    "    def perimeter(self):\n",
    "        return 2 * (self.width + self.height)\n",
    "\n",
    "class Circle(Shape):\n",
    "    def __init__(self, radius):\n",
    "        self.radius = radius\n",
    "\n",
    "    def area(self):\n",
    "        return 3.14 * self.radius * self.radius\n",
    "\n",
    "    def perimeter(self):\n",
    "        return 2 * 3.14 * self.radius\n",
    "\n",
    "# Creating instances of derived classes\n",
    "rectangle = Rectangle(5, 3)\n",
    "circle = Circle(7)\n",
    "\n",
    "# Calling the abstract methods\n",
    "print(rectangle.area())    # Output: 15\n",
    "print(rectangle.perimeter())   # Output: 16\n",
    "print(circle.area())    # Output: 153.86\n",
    "print(circle.perimeter())   # Output: 43.96\n"
   ]
  },
  {
   "cell_type": "raw",
   "id": "7a607e2e-9936-4558-a26c-f18217ead9fe",
   "metadata": {},
   "source": [
    "Q2. Differentiate between Abstraction and Encapsulation. Explain with an example.\n",
    "\n",
    "ANS--Abstraction and encapsulation are two important concepts in object-oriented programming (OOP), \n",
    "but they serve different purposes.\n",
    "\n",
    "Abstraction focuses on hiding unnecessary details and exposing only the essential features of an \n",
    "object or a class. It allows you to represent complex systems or entities in a simplified manner.\n",
    "Abstraction is achieved through abstract classes and interfaces, which provide a blueprint for \n",
    "creating derived classes and define a contract that concrete classes must adhere to.\n",
    "\n",
    "Encapsulation, on the other hand, is about bundling data and methods together and restricting\n",
    "direct access to the internal state of an object. It hides the internal details and provides a \n",
    "controlled interface for interacting with the object. Encapsulation is achieved by using access\n",
    "specifiers (such as public, private, and protected) to control the visibility and accessibility\n",
    "of the members (attributes and methods) of a class.\n",
    "\n"
   ]
  },
  {
   "cell_type": "code",
   "execution_count": null,
   "id": "c59b2236-ec15-4f7b-ba6f-14673c3fc812",
   "metadata": {},
   "outputs": [],
   "source": [
    "#EXAMPLE\n",
    "from abc import ABC, abstractmethod\n",
    "\n",
    "# Abstraction through abstract class\n",
    "class Shape(ABC):\n",
    "    @abstractmethod\n",
    "    def calculate_area(self):\n",
    "        pass\n",
    "\n",
    "# Encapsulation through class and private attribute\n",
    "class Rectangle(Shape):\n",
    "    def __init__(self, width, height):\n",
    "        self._width = width   # Private attribute\n",
    "        self._height = height # Private attribute\n",
    "\n",
    "    def calculate_area(self):\n",
    "        return self._width * self._height\n",
    "\n",
    "    def get_width(self):   # Getter method for width\n",
    "        return self._width\n",
    "\n",
    "    def set_width(self, width):   # Setter method for width\n",
    "        self._width = width\n",
    "\n",
    "# Creating an instance of the Rectangle class\n",
    "rectangle = Rectangle(5, 3)\n",
    "\n",
    "# Accessing encapsulated data through getter and setter methods\n",
    "print(rectangle.get_width())  # Output: 5\n",
    "\n",
    "rectangle.set_width(7)\n",
    "print(rectangle.get_width())  # Output: 7\n",
    "\n",
    "# Calling the abstract method through abstraction\n",
    "print(rectangle.calculate_area())  # Output: 21\n"
   ]
  },
  {
   "cell_type": "code",
   "execution_count": null,
   "id": "333364c9-e0b0-4214-9a74-238533c2b85f",
   "metadata": {},
   "outputs": [],
   "source": [
    "Q3. What is abc module in python? Why is it used?\n",
    "\n",
    "ANS--The abc module in Python stands for \"Abstract Base Classes.\" It is a module that\n",
    "provides infrastructure for defining abstract base classes (ABCs) in Python. ABCs are \n",
    "classes that cannot be instantiated directly but are meant to be subclassed by concrete classes."
   ]
  },
  {
   "cell_type": "code",
   "execution_count": null,
   "id": "0b2865dc-3423-4fd9-a131-b7e977d46882",
   "metadata": {},
   "outputs": [],
   "source": [
    "Q4. How can we achieve data abstraction?\n",
    "\n",
    "ANS--By defining classes, you can encapsulate data and provide a simplified interface\n",
    "to interact with the data, hiding the implementation details.\n",
    "\n",
    "STEPS TO ACHIEVE ABSTRACTION:\n",
    "    1. Define data\n",
    "    2. Encapsulate data\n",
    "    3. Provide public method\n",
    "    4. Hide implementation details"
   ]
  },
  {
   "cell_type": "code",
   "execution_count": null,
   "id": "bfbf4309-3374-4e0c-944d-15bff65c7126",
   "metadata": {},
   "outputs": [],
   "source": [
    "Q5. Can we create an instance of an abstract class? Explain your answer.\n",
    "\n",
    "ans--No, we cannot create an instance of an abstract class in Python. Abstract classes are meant to be inherited by other classes and serve as blueprints for creating concrete (non-abstract) classes. Abstract classes cannot be instantiated directly because they may have abstract methods that lack implementation."
   ]
  }
 ],
 "metadata": {
  "kernelspec": {
   "display_name": "Python 3 (ipykernel)",
   "language": "python",
   "name": "python3"
  },
  "language_info": {
   "codemirror_mode": {
    "name": "ipython",
    "version": 3
   },
   "file_extension": ".py",
   "mimetype": "text/x-python",
   "name": "python",
   "nbconvert_exporter": "python",
   "pygments_lexer": "ipython3",
   "version": "3.10.8"
  }
 },
 "nbformat": 4,
 "nbformat_minor": 5
}
